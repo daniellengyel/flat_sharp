{
 "cells": [
  {
   "cell_type": "code",
   "execution_count": 19,
   "metadata": {},
   "outputs": [
    {
     "name": "stdout",
     "output_type": "stream",
     "text": [
      "The autoreload extension is already loaded. To reload it, use:\n",
      "  %reload_ext autoreload\n"
     ]
    }
   ],
   "source": [
    "import numpy as np \n",
    "import pickle,os\n",
    "import matplotlib.pyplot as plt\n",
    "import torch\n",
    "from torch.utils.data import DataLoader\n",
    "import sys\n",
    "sys.path.append(\"..\")\n",
    "from nets import Nets\n",
    "from utils import *\n",
    "\n",
    "\n",
    "\n",
    "\n",
    "from postprocessing import *\n",
    "\n",
    "%load_ext autoreload\n",
    "%autoreload 2"
   ]
  },
  {
   "cell_type": "code",
   "execution_count": 7,
   "metadata": {},
   "outputs": [],
   "source": [
    "import re"
   ]
  },
  {
   "cell_type": "code",
   "execution_count": 2,
   "metadata": {},
   "outputs": [],
   "source": [
    "experiment_folder = \"/Users/daniellengyel/flat_sharp/flat_sharp/experiments/gaussian/{}\".format(\"Apr03_17-38-00_Daniels-MacBook-Pro-4.local\")#\"/Users/daniellengyel/flat_sharp/gaussian/gaussian_experiments/Apr03_17-38-00_Daniels-MacBook-Pro-4.local\"\n",
    "# configs = get_configs(experiment_folder)"
   ]
  },
  {
   "cell_type": "code",
   "execution_count": 13,
   "metadata": {},
   "outputs": [
    {
     "name": "stdout",
     "output_type": "stream",
     "text": [
      "/Users/daniellengyel/flat_sharp/flat_sharp/experiments/gaussian/Apr03_17-38-00_Daniels-MacBook-Pro-4.local/runs/1585931450.079084\n",
      "/Users/daniellengyel/flat_sharp/flat_sharp/experiments/gaussian/Apr03_17-38-00_Daniels-MacBook-Pro-4.local/runs/1585938556.9890182\n",
      "/Users/daniellengyel/flat_sharp/flat_sharp/experiments/gaussian/Apr03_17-38-00_Daniels-MacBook-Pro-4.local/runs/1585929058.874381\n",
      "/Users/daniellengyel/flat_sharp/flat_sharp/experiments/gaussian/Apr03_17-38-00_Daniels-MacBook-Pro-4.local/runs/1585930974.450449\n",
      "/Users/daniellengyel/flat_sharp/flat_sharp/experiments/gaussian/Apr03_17-38-00_Daniels-MacBook-Pro-4.local/runs/1585934302.062954\n",
      "/Users/daniellengyel/flat_sharp/flat_sharp/experiments/gaussian/Apr03_17-38-00_Daniels-MacBook-Pro-4.local/runs/1585928292.1530418\n",
      "/Users/daniellengyel/flat_sharp/flat_sharp/experiments/gaussian/Apr03_17-38-00_Daniels-MacBook-Pro-4.local/runs/1585928292.2605288\n",
      "/Users/daniellengyel/flat_sharp/flat_sharp/experiments/gaussian/Apr03_17-38-00_Daniels-MacBook-Pro-4.local/runs/1585933368.4496589\n",
      "/Users/daniellengyel/flat_sharp/flat_sharp/experiments/gaussian/Apr03_17-38-00_Daniels-MacBook-Pro-4.local/runs/1585933924.298754\n",
      "/Users/daniellengyel/flat_sharp/flat_sharp/experiments/gaussian/Apr03_17-38-00_Daniels-MacBook-Pro-4.local/runs/1585935436.556793\n",
      "/Users/daniellengyel/flat_sharp/flat_sharp/experiments/gaussian/Apr03_17-38-00_Daniels-MacBook-Pro-4.local/runs/1585937202.926142\n",
      "/Users/daniellengyel/flat_sharp/flat_sharp/experiments/gaussian/Apr03_17-38-00_Daniels-MacBook-Pro-4.local/runs/1585932634.320863\n",
      "/Users/daniellengyel/flat_sharp/flat_sharp/experiments/gaussian/Apr03_17-38-00_Daniels-MacBook-Pro-4.local/runs/1585928292.091854\n",
      "/Users/daniellengyel/flat_sharp/flat_sharp/experiments/gaussian/Apr03_17-38-00_Daniels-MacBook-Pro-4.local/runs/1585929173.266548\n",
      "/Users/daniellengyel/flat_sharp/flat_sharp/experiments/gaussian/Apr03_17-38-00_Daniels-MacBook-Pro-4.local/runs/1585928292.0912151\n",
      "/Users/daniellengyel/flat_sharp/flat_sharp/experiments/gaussian/Apr03_17-38-00_Daniels-MacBook-Pro-4.local/runs/1585928292.195146\n",
      "/Users/daniellengyel/flat_sharp/flat_sharp/experiments/gaussian/Apr03_17-38-00_Daniels-MacBook-Pro-4.local/runs/1585934233.4880471\n",
      "/Users/daniellengyel/flat_sharp/flat_sharp/experiments/gaussian/Apr03_17-38-00_Daniels-MacBook-Pro-4.local/runs/1585930257.922931\n",
      "/Users/daniellengyel/flat_sharp/flat_sharp/experiments/gaussian/Apr03_17-38-00_Daniels-MacBook-Pro-4.local/runs/1585935354.481889\n",
      "/Users/daniellengyel/flat_sharp/flat_sharp/experiments/gaussian/Apr03_17-38-00_Daniels-MacBook-Pro-4.local/runs/1585939435.9856498\n",
      "/Users/daniellengyel/flat_sharp/flat_sharp/experiments/gaussian/Apr03_17-38-00_Daniels-MacBook-Pro-4.local/runs/1585930892.8467379\n",
      "/Users/daniellengyel/flat_sharp/flat_sharp/experiments/gaussian/Apr03_17-38-00_Daniels-MacBook-Pro-4.local/runs/1585934030.712699\n",
      "/Users/daniellengyel/flat_sharp/flat_sharp/experiments/gaussian/Apr03_17-38-00_Daniels-MacBook-Pro-4.local/runs/1585928292.0770292\n",
      "/Users/daniellengyel/flat_sharp/flat_sharp/experiments/gaussian/Apr03_17-38-00_Daniels-MacBook-Pro-4.local/runs/1585937262.7346098\n",
      "/Users/daniellengyel/flat_sharp/flat_sharp/experiments/gaussian/Apr03_17-38-00_Daniels-MacBook-Pro-4.local/runs/1585931613.032522\n",
      "/Users/daniellengyel/flat_sharp/flat_sharp/experiments/gaussian/Apr03_17-38-00_Daniels-MacBook-Pro-4.local/runs/1585936404.000936\n",
      "/Users/daniellengyel/flat_sharp/flat_sharp/experiments/gaussian/Apr03_17-38-00_Daniels-MacBook-Pro-4.local/runs/1585936880.102571\n",
      "/Users/daniellengyel/flat_sharp/flat_sharp/experiments/gaussian/Apr03_17-38-00_Daniels-MacBook-Pro-4.local/runs/1585928292.161804\n",
      "/Users/daniellengyel/flat_sharp/flat_sharp/experiments/gaussian/Apr03_17-38-00_Daniels-MacBook-Pro-4.local/runs/1585936051.404914\n",
      "/Users/daniellengyel/flat_sharp/flat_sharp/experiments/gaussian/Apr03_17-38-00_Daniels-MacBook-Pro-4.local/runs/1585937892.110379\n",
      "/Users/daniellengyel/flat_sharp/flat_sharp/experiments/gaussian/Apr03_17-38-00_Daniels-MacBook-Pro-4.local/runs/1585931463.9346292\n",
      "/Users/daniellengyel/flat_sharp/flat_sharp/experiments/gaussian/Apr03_17-38-00_Daniels-MacBook-Pro-4.local/runs/1585934200.365603\n",
      "/Users/daniellengyel/flat_sharp/flat_sharp/experiments/gaussian/Apr03_17-38-00_Daniels-MacBook-Pro-4.local/runs/1585938359.861946\n",
      "/Users/daniellengyel/flat_sharp/flat_sharp/experiments/gaussian/Apr03_17-38-00_Daniels-MacBook-Pro-4.local/runs/1585928292.089112\n",
      "/Users/daniellengyel/flat_sharp/flat_sharp/experiments/gaussian/Apr03_17-38-00_Daniels-MacBook-Pro-4.local/runs/1585928292.169483\n",
      "/Users/daniellengyel/flat_sharp/flat_sharp/experiments/gaussian/Apr03_17-38-00_Daniels-MacBook-Pro-4.local/runs/1585934392.164982\n",
      "/Users/daniellengyel/flat_sharp/flat_sharp/experiments/gaussian/Apr03_17-38-00_Daniels-MacBook-Pro-4.local/runs/1585929528.781709\n",
      "/Users/daniellengyel/flat_sharp/flat_sharp/experiments/gaussian/Apr03_17-38-00_Daniels-MacBook-Pro-4.local/runs/1585939941.8184571\n",
      "/Users/daniellengyel/flat_sharp/flat_sharp/experiments/gaussian/Apr03_17-38-00_Daniels-MacBook-Pro-4.local/runs/1585937111.557515\n",
      "/Users/daniellengyel/flat_sharp/flat_sharp/experiments/gaussian/Apr03_17-38-00_Daniels-MacBook-Pro-4.local/runs/1585938789.398138\n",
      "/Users/daniellengyel/flat_sharp/flat_sharp/experiments/gaussian/Apr03_17-38-00_Daniels-MacBook-Pro-4.local/runs/1585934398.800935\n",
      "/Users/daniellengyel/flat_sharp/flat_sharp/experiments/gaussian/Apr03_17-38-00_Daniels-MacBook-Pro-4.local/runs/1585937288.391773\n",
      "/Users/daniellengyel/flat_sharp/flat_sharp/experiments/gaussian/Apr03_17-38-00_Daniels-MacBook-Pro-4.local/runs/1585933368.4366121\n",
      "/Users/daniellengyel/flat_sharp/flat_sharp/experiments/gaussian/Apr03_17-38-00_Daniels-MacBook-Pro-4.local/runs/1585932708.15507\n",
      "/Users/daniellengyel/flat_sharp/flat_sharp/experiments/gaussian/Apr03_17-38-00_Daniels-MacBook-Pro-4.local/runs/1585928292.25363\n",
      "/Users/daniellengyel/flat_sharp/flat_sharp/experiments/gaussian/Apr03_17-38-00_Daniels-MacBook-Pro-4.local/runs/1585928292.21398\n",
      "/Users/daniellengyel/flat_sharp/flat_sharp/experiments/gaussian/Apr03_17-38-00_Daniels-MacBook-Pro-4.local/runs/1585939959.621158\n",
      "/Users/daniellengyel/flat_sharp/flat_sharp/experiments/gaussian/Apr03_17-38-00_Daniels-MacBook-Pro-4.local/runs/1585931775.9423769\n",
      "/Users/daniellengyel/flat_sharp/flat_sharp/experiments/gaussian/Apr03_17-38-00_Daniels-MacBook-Pro-4.local/runs/1585930890.959148\n",
      "/Users/daniellengyel/flat_sharp/flat_sharp/experiments/gaussian/Apr03_17-38-00_Daniels-MacBook-Pro-4.local/runs/1585933418.320897\n",
      "/Users/daniellengyel/flat_sharp/flat_sharp/experiments/gaussian/Apr03_17-38-00_Daniels-MacBook-Pro-4.local/runs/1585930956.739653\n",
      "/Users/daniellengyel/flat_sharp/flat_sharp/experiments/gaussian/Apr03_17-38-00_Daniels-MacBook-Pro-4.local/runs/1585931172.3658938\n",
      "/Users/daniellengyel/flat_sharp/flat_sharp/experiments/gaussian/Apr03_17-38-00_Daniels-MacBook-Pro-4.local/runs/1585939630.681816\n",
      "/Users/daniellengyel/flat_sharp/flat_sharp/experiments/gaussian/Apr03_17-38-00_Daniels-MacBook-Pro-4.local/runs/1585937262.7277231\n",
      "/Users/daniellengyel/flat_sharp/flat_sharp/experiments/gaussian/Apr03_17-38-00_Daniels-MacBook-Pro-4.local/runs/1585935434.029075\n",
      "/Users/daniellengyel/flat_sharp/flat_sharp/experiments/gaussian/Apr03_17-38-00_Daniels-MacBook-Pro-4.local/runs/1585937856.041949\n",
      "/Users/daniellengyel/flat_sharp/flat_sharp/experiments/gaussian/Apr03_17-38-00_Daniels-MacBook-Pro-4.local/runs/1585931684.0249321\n",
      "/Users/daniellengyel/flat_sharp/flat_sharp/experiments/gaussian/Apr03_17-38-00_Daniels-MacBook-Pro-4.local/runs/1585928292.110432\n",
      "/Users/daniellengyel/flat_sharp/flat_sharp/experiments/gaussian/Apr03_17-38-00_Daniels-MacBook-Pro-4.local/runs/1585940039.070208\n",
      "/Users/daniellengyel/flat_sharp/flat_sharp/experiments/gaussian/Apr03_17-38-00_Daniels-MacBook-Pro-4.local/runs/1585934529.289715\n"
     ]
    }
   ],
   "source": [
    "# get runs \n",
    "runs = get_runs(experiment_folder, [\"Loss\"])"
   ]
  },
  {
   "cell_type": "code",
   "execution_count": 47,
   "metadata": {},
   "outputs": [],
   "source": [
    "with open(os.path.join(experiment_folder, \"eig_tmp.pkl\"), \"rb\") as f:\n",
    "    eigs = pickle.load(f)\n",
    "    \n",
    "with open(os.path.join(experiment_folder, \"acc_tmp.pkl\"), \"rb\") as f:\n",
    "    accs = pickle.load(f)"
   ]
  },
  {
   "cell_type": "code",
   "execution_count": null,
   "metadata": {},
   "outputs": [],
   "source": [
    "# next step, get accuracy here... sucks we can't get it otherwise"
   ]
  },
  {
   "cell_type": "code",
   "execution_count": 23,
   "metadata": {},
   "outputs": [],
   "source": [
    "configs = get_configs(experiment_folder)\n",
    "config_to_id_map = get_config_to_id_map(configs)"
   ]
  },
  {
   "cell_type": "code",
   "execution_count": 17,
   "metadata": {},
   "outputs": [],
   "source": [
    "config = {'batch_test_size': 100,\n",
    " 'batch_train_size': 16,\n",
    " 'ess_threshold': 0.95,\n",
    " 'learning_rate': 0.001,\n",
    " 'momentum': 0,\n",
    " 'net_name': 'SimpleNet',\n",
    " 'net_params': None, #[2, 2, 256, 1],\n",
    " 'num_steps': 1600,\n",
    " 'num_nets': 100,\n",
    " 'softmax_beta': None, #0,\n",
    " 'torch_random_seed': 1,\n",
    " 'weight_type': 'loss_gradient_weights'}"
   ]
  },
  {
   "cell_type": "code",
   "execution_count": 25,
   "metadata": {},
   "outputs": [],
   "source": [
    "ids = get_ids(config_to_id_map, config)"
   ]
  },
  {
   "cell_type": "code",
   "execution_count": 26,
   "metadata": {
    "collapsed": true
   },
   "outputs": [
    {
     "name": "stdout",
     "output_type": "stream",
     "text": [
      "1585929058.874381\n",
      "{'batch_test_size': 100, 'batch_train_size': 16, 'ess_threshold': 0.95, 'learning_rate': 0.001, 'momentum': 0, 'net_name': 'SimpleNet', 'net_params': [2, 2, 4, 1], 'num_nets': 100, 'num_steps': 1600, 'softmax_beta': -10, 'torch_random_seed': 1, 'weight_type': 'loss_gradient_weights'}\n",
      "1585928292.0770292\n",
      "{'batch_test_size': 100, 'batch_train_size': 16, 'ess_threshold': 0.95, 'learning_rate': 0.001, 'momentum': 0, 'net_name': 'SimpleNet', 'net_params': [2, 2, 4, 1], 'num_nets': 100, 'num_steps': 1600, 'softmax_beta': -75, 'torch_random_seed': 1, 'weight_type': 'loss_gradient_weights'}\n",
      "1585934392.164982\n",
      "{'batch_test_size': 100, 'batch_train_size': 16, 'ess_threshold': 0.95, 'learning_rate': 0.001, 'momentum': 0, 'net_name': 'SimpleNet', 'net_params': [2, 2, 4, 1], 'num_nets': 100, 'num_steps': 1600, 'softmax_beta': 10, 'torch_random_seed': 1, 'weight_type': 'loss_gradient_weights'}\n",
      "1585937262.7277231\n",
      "{'batch_test_size': 100, 'batch_train_size': 16, 'ess_threshold': 0.95, 'learning_rate': 0.001, 'momentum': 0, 'net_name': 'SimpleNet', 'net_params': [2, 2, 4, 1], 'num_nets': 100, 'num_steps': 1600, 'softmax_beta': 75, 'torch_random_seed': 1, 'weight_type': 'loss_gradient_weights'}\n",
      "1585931684.0249321\n",
      "{'batch_test_size': 100, 'batch_train_size': 16, 'ess_threshold': 0.95, 'learning_rate': 0.001, 'momentum': 0, 'net_name': 'SimpleNet', 'net_params': [2, 2, 4, 1], 'num_nets': 100, 'num_steps': 1600, 'softmax_beta': 0, 'torch_random_seed': 1, 'weight_type': 'loss_gradient_weights'}\n",
      "1585928292.091854\n",
      "{'batch_test_size': 100, 'batch_train_size': 16, 'ess_threshold': 0.95, 'learning_rate': 0.001, 'momentum': 0, 'net_name': 'SimpleNet', 'net_params': [2, 2, 256, 1], 'num_nets': 100, 'num_steps': 1600, 'softmax_beta': -75, 'torch_random_seed': 1, 'weight_type': 'loss_gradient_weights'}\n",
      "1585934030.712699\n",
      "{'batch_test_size': 100, 'batch_train_size': 16, 'ess_threshold': 0.95, 'learning_rate': 0.001, 'momentum': 0, 'net_name': 'SimpleNet', 'net_params': [2, 2, 256, 1], 'num_nets': 100, 'num_steps': 1600, 'softmax_beta': 0, 'torch_random_seed': 1, 'weight_type': 'loss_gradient_weights'}\n",
      "1585936880.102571\n",
      "{'batch_test_size': 100, 'batch_train_size': 16, 'ess_threshold': 0.95, 'learning_rate': 0.001, 'momentum': 0, 'net_name': 'SimpleNet', 'net_params': [2, 2, 256, 1], 'num_nets': 100, 'num_steps': 1600, 'softmax_beta': 10, 'torch_random_seed': 1, 'weight_type': 'loss_gradient_weights'}\n",
      "1585931172.3658938\n",
      "{'batch_test_size': 100, 'batch_train_size': 16, 'ess_threshold': 0.95, 'learning_rate': 0.001, 'momentum': 0, 'net_name': 'SimpleNet', 'net_params': [2, 2, 256, 1], 'num_nets': 100, 'num_steps': 1600, 'softmax_beta': -10, 'torch_random_seed': 1, 'weight_type': 'loss_gradient_weights'}\n",
      "1585939630.681816\n",
      "{'batch_test_size': 100, 'batch_train_size': 16, 'ess_threshold': 0.95, 'learning_rate': 0.001, 'momentum': 0, 'net_name': 'SimpleNet', 'net_params': [2, 2, 256, 1], 'num_nets': 100, 'num_steps': 1600, 'softmax_beta': 75, 'torch_random_seed': 1, 'weight_type': 'loss_gradient_weights'}\n",
      "1585928292.161804\n",
      "{'batch_test_size': 100, 'batch_train_size': 16, 'ess_threshold': 0.95, 'learning_rate': 0.001, 'momentum': 0, 'net_name': 'SimpleNet', 'net_params': [2, 2, 32, 1], 'num_nets': 100, 'num_steps': 1600, 'softmax_beta': -75, 'torch_random_seed': 1, 'weight_type': 'loss_gradient_weights'}\n",
      "1585938359.861946\n",
      "{'batch_test_size': 100, 'batch_train_size': 16, 'ess_threshold': 0.95, 'learning_rate': 0.001, 'momentum': 0, 'net_name': 'SimpleNet', 'net_params': [2, 2, 32, 1], 'num_nets': 100, 'num_steps': 1600, 'softmax_beta': 75, 'torch_random_seed': 1, 'weight_type': 'loss_gradient_weights'}\n",
      "1585933368.4366121\n",
      "{'batch_test_size': 100, 'batch_train_size': 16, 'ess_threshold': 0.95, 'learning_rate': 0.001, 'momentum': 0, 'net_name': 'SimpleNet', 'net_params': [2, 2, 32, 1], 'num_nets': 100, 'num_steps': 1600, 'softmax_beta': 0, 'torch_random_seed': 1, 'weight_type': 'loss_gradient_weights'}\n",
      "1585930890.959148\n",
      "{'batch_test_size': 100, 'batch_train_size': 16, 'ess_threshold': 0.95, 'learning_rate': 0.001, 'momentum': 0, 'net_name': 'SimpleNet', 'net_params': [2, 2, 32, 1], 'num_nets': 100, 'num_steps': 1600, 'softmax_beta': -10, 'torch_random_seed': 1, 'weight_type': 'loss_gradient_weights'}\n",
      "1585935434.029075\n",
      "{'batch_test_size': 100, 'batch_train_size': 16, 'ess_threshold': 0.95, 'learning_rate': 0.001, 'momentum': 0, 'net_name': 'SimpleNet', 'net_params': [2, 2, 32, 1], 'num_nets': 100, 'num_steps': 1600, 'softmax_beta': 10, 'torch_random_seed': 1, 'weight_type': 'loss_gradient_weights'}\n"
     ]
    }
   ],
   "source": [
    "for i in ids:\n",
    "    print(i)\n",
    "    print(configs[i])"
   ]
  },
  {
   "cell_type": "code",
   "execution_count": 51,
   "metadata": {},
   "outputs": [
    {
     "name": "stdout",
     "output_type": "stream",
     "text": [
      "1585929058.874381\n",
      "1585928292.0770292\n",
      "1585934392.164982\n",
      "1585937262.7277231\n",
      "1585931684.0249321\n"
     ]
    },
    {
     "data": {
      "image/png": "[encoded data removed]",
      "text/plain": [
       "<Figure size 432x288 with 1 Axes>"
      ]
     },
     "metadata": {
      "needs_background": "light"
     },
     "output_type": "display_data"
    },
    {
     "name": "stdout",
     "output_type": "stream",
     "text": [
      "NEXT\n",
      "err\n",
      "1585938359.861946\n",
      "1585933368.4366121\n",
      "err\n",
      "1585935434.029075\n"
     ]
    },
    {
     "data": {
      "image/png": "[encoded data removed]",
      "text/plain": [
       "<Figure size 432x288 with 1 Axes>"
      ]
     },
     "metadata": {
      "needs_background": "light"
     },
     "output_type": "display_data"
    },
    {
     "name": "stdout",
     "output_type": "stream",
     "text": [
      "NEXT\n",
      "1585928292.091854\n",
      "1585934030.712699\n",
      "1585936880.102571\n",
      "1585931172.3658938\n",
      "1585939630.681816\n"
     ]
    },
    {
     "data": {
      "image/png": "[encoded data removed]",
      "text/plain": [
       "<Figure size 432x288 with 1 Axes>"
      ]
     },
     "metadata": {
      "needs_background": "light"
     },
     "output_type": "display_data"
    },
    {
     "name": "stdout",
     "output_type": "stream",
     "text": [
      "NEXT\n"
     ]
    }
   ],
   "source": [
    "for w in [4, 32, 256]:\n",
    "    config['net_params'] = [2, 2, w, 1]\n",
    "    ids = get_ids(config_to_id_map, config)\n",
    "    \n",
    "    plots = []\n",
    "    plots_names = []\n",
    "    for i in ids:\n",
    "        \n",
    "        \n",
    "        try:\n",
    "            Y = [accs[i][str(nn)] for nn in range(100)]\n",
    "            X = [eigs[i][str(nn)][0][-1] for nn in range(100)]\n",
    "            \n",
    "            plots.append(plt.scatter(np.array(X), np.array(Y), ))\n",
    "            plots_names.append(configs[i][\"softmax_beta\"])\n",
    "            print(i)\n",
    "        except:\n",
    "            print(\"err\")\n",
    "            continue\n",
    "            \n",
    "    plt.legend(tuple(plots),\n",
    "           plots_names,\n",
    "           scatterpoints=1,\n",
    "           loc='lower left',\n",
    "           ncol=3,\n",
    "           fontsize=8)\n",
    "\n",
    "\n",
    "    plt.xlabel(\"eig\")\n",
    "    plt.ylabel(\"acc\")\n",
    "\n",
    "    plt.show()\n",
    "    \n",
    "    print(\"NEXT\")\n"
   ]
  },
  {
   "cell_type": "code",
   "execution_count": 50,
   "metadata": {},
   "outputs": [
    {
     "name": "stdout",
     "output_type": "stream",
     "text": [
      "1585929058.874381\n",
      "1585928292.0770292\n",
      "1585934392.164982\n",
      "1585937262.7277231\n",
      "1585931684.0249321\n"
     ]
    },
    {
     "data": {
      "image/png": "[encoded data removed]",
      "text/plain": [
       "<Figure size 432x288 with 1 Axes>"
      ]
     },
     "metadata": {
      "needs_background": "light"
     },
     "output_type": "display_data"
    },
    {
     "name": "stdout",
     "output_type": "stream",
     "text": [
      "NEXT\n",
      "err\n",
      "1585938359.861946\n",
      "1585933368.4366121\n",
      "err\n",
      "1585935434.029075\n"
     ]
    },
    {
     "data": {
      "image/png": "[encoded data removed]",
      "text/plain": [
       "<Figure size 432x288 with 1 Axes>"
      ]
     },
     "metadata": {
      "needs_background": "light"
     },
     "output_type": "display_data"
    },
    {
     "name": "stdout",
     "output_type": "stream",
     "text": [
      "NEXT\n",
      "1585928292.091854\n",
      "1585934030.712699\n",
      "1585936880.102571\n",
      "1585931172.3658938\n",
      "1585939630.681816\n"
     ]
    },
    {
     "data": {
      "image/png": "[encoded data removed]",
      "text/plain": [
       "<Figure size 432x288 with 1 Axes>"
      ]
     },
     "metadata": {
      "needs_background": "light"
     },
     "output_type": "display_data"
    },
    {
     "name": "stdout",
     "output_type": "stream",
     "text": [
      "NEXT\n"
     ]
    }
   ],
   "source": [
    "for w in [4, 32, 256]:\n",
    "    config['net_params'] = [2, 2, w, 1]\n",
    "    ids = get_ids(config_to_id_map, config)\n",
    "    \n",
    "    plots = []\n",
    "    plots_names = []\n",
    "    for i in ids:\n",
    "        \n",
    "        \n",
    "        try:\n",
    "            X = [eigs[i][str(nn)][0][-1] for nn in range(100)]\n",
    "            Y = [runs[i][1599][\"Loss\"][\"train\"][\"net\"][str(nn)] for nn in range(100)]\n",
    "            \n",
    "            plots.append(plt.scatter(np.array(X), np.array(Y), ))\n",
    "            plots_names.append(configs[i][\"softmax_beta\"])\n",
    "            print(i)\n",
    "        except:\n",
    "            print(\"err\")\n",
    "            continue\n",
    "            \n",
    "    plt.legend(tuple(plots),\n",
    "           plots_names,\n",
    "           scatterpoints=1,\n",
    "           loc='lower left',\n",
    "           ncol=3,\n",
    "           fontsize=8)\n",
    "\n",
    "\n",
    "    plt.xlabel(\"Largest Eigenvalue of Hessian\")\n",
    "    plt.ylabel(\"Loss\")\n",
    "\n",
    "    plt.show()\n",
    "    \n",
    "    print(\"NEXT\")\n"
   ]
  },
  {
   "cell_type": "code",
   "execution_count": null,
   "metadata": {},
   "outputs": [],
   "source": [
    "import time"
   ]
  },
  {
   "cell_type": "code",
   "execution_count": null,
   "metadata": {},
   "outputs": [],
   "source": [
    "# errors\n",
    "errs = [\"1585931450.079084\",\n",
    "\"1585938556.9890182\",\n",
    "\"1585930974.450449\",\n",
    "\"1585928292.0912151\",\n",
    "\"1585928292.195146\",\n",
    "\"1585939435.9856498\",\n",
    "\"1585930892.8467379\",\n",
    "\"1585936404.000936\",\n",
    "\"1585928292.161804\",\n",
    "\"1585930890.959148\",\n",
    "\"1585933418.320897\",\n",
    "\"1585930956.739653\",\n",
    "\"1585928292.110432\"]"
   ]
  },
  {
   "cell_type": "code",
   "execution_count": null,
   "metadata": {},
   "outputs": [],
   "source": [
    "def get_all_model_steps(resampling_dir):\n",
    "    step_dir = {}\n",
    "    for root, dirs, files in os.walk(resampling_dir):\n",
    "        for sample_step_dir in dirs:\n",
    "            name_split_underscore = sample_step_dir.split(\"_\")\n",
    "            if len(name_split_underscore) == 1:\n",
    "                continue\n",
    "            step_dir[int(name_split_underscore[1])] = sample_step_dir\n",
    "    return step_dir"
   ]
  },
  {
   "cell_type": "code",
   "execution_count": null,
   "metadata": {},
   "outputs": [],
   "source": [
    "from sklearn.manifold import TSNE\n",
    "\n",
    "\n",
    "# get all tsne embeddings\n",
    "def get_tsne_dict(experiment_folder, curr_dir):\n",
    "    tsne_dict = {}\n",
    "    step_dir = get_all_model_steps(os.path.join(experiment_folder, \"resampling\", curr_dir))\n",
    "    for step in sorted(step_dir):\n",
    "        print(step)\n",
    "        models, sampled_idx = get_models(os.path.join(experiment_folder, \"resampling\", curr_dir), step)\n",
    "        models_vecs = np.array([get_params_vec(m) for m in models.values()])\n",
    "\n",
    "        X_embedded = TSNE(n_components=2).fit_transform(models_vecs)\n",
    "\n",
    "        tsne_dict[step] = X_embedded\n",
    "    return tsne_dict"
   ]
  },
  {
   "cell_type": "code",
   "execution_count": null,
   "metadata": {
    "scrolled": true
   },
   "outputs": [],
   "source": [
    "for i in sorted(tsne_dict):\n",
    "    print(i)\n",
    "    plt.scatter(tsne_dict[i][:, 0], tsne_dict[i][:, 1])\n",
    "    plt.show()\n",
    "    "
   ]
  },
  {
   "cell_type": "code",
   "execution_count": null,
   "metadata": {},
   "outputs": [],
   "source": [
    "curr_dir = \"1585931172.3658938\"\n"
   ]
  },
  {
   "cell_type": "code",
   "execution_count": null,
   "metadata": {
    "scrolled": true
   },
   "outputs": [],
   "source": [
    "tsne_dict = get_tsne_dict(experiment_folder, curr_dir)\n",
    "for i in sorted(tsne_dict):\n",
    "    print(i)\n",
    "    plt.scatter(tsne_dict[i][:, 0], tsne_dict[i][:, 1])\n",
    "    plt.show()"
   ]
  },
  {
   "cell_type": "code",
   "execution_count": null,
   "metadata": {},
   "outputs": [],
   "source": [
    "\n",
    "\n",
    "models, sampled_idx = get_models(os.path.join(experiment_folder, \"resampling\", curr_dir), 0)\n",
    "models_vecs = np.array([get_params_vec(m) for m in models.values()])\n",
    "\n",
    "shortest_distance = float(\"inf\")\n",
    "shortest_pair = (None, None)\n",
    "\n",
    "largest_distance = -float(\"inf\")\n",
    "largest_pair = (None, None)\n",
    "for i in range(len(models_vecs)):\n",
    "    for j in range(i + 1, len(models_vecs)):\n",
    "        if np.linalg.norm(models_vecs[i] - models_vecs[j]) < shortest_distance:\n",
    "            shortest_distance = np.linalg.norm(models_vecs[i] - models_vecs[j])\n",
    "            shortest_pair = (i, j)\n",
    "        if np.linalg.norm(models_vecs[i] - models_vecs[j]) > largest_distance:\n",
    "            largest_distance = np.linalg.norm(models_vecs[i] - models_vecs[j])\n",
    "            largest_pair = (i, j)\n"
   ]
  },
  {
   "cell_type": "code",
   "execution_count": null,
   "metadata": {},
   "outputs": [],
   "source": [
    "shortest_distance"
   ]
  },
  {
   "cell_type": "code",
   "execution_count": null,
   "metadata": {},
   "outputs": [],
   "source": [
    "largest_distance\n",
    "np.linalg.norm(models_vecs[0])"
   ]
  },
  {
   "cell_type": "code",
   "execution_count": null,
   "metadata": {
    "scrolled": true
   },
   "outputs": [],
   "source": [
    "with open(os.path.join(experiment_folder, \"data.pkl\"), \"rb\") as f:\n",
    "    data = pickle.load(f)\n",
    "\n",
    "train_loader = DataLoader(data[0], batch_size=len(data[0]), shuffle=True)  # fix the batch size\n",
    "test_loader = DataLoader(data[1], batch_size=len(data[1]))\n",
    "\n",
    "largest_arr = []\n",
    "largest_acc = []\n",
    "shortest_arr = []\n",
    "shortest_acc = []\n",
    "\n",
    "largest_mags = []\n",
    "shortest_mags = []\n",
    "\n",
    "step_dir = get_all_model_steps(os.path.join(experiment_folder, \"resampling\", curr_dir))\n",
    "for step in sorted(step_dir):\n",
    "    print(step)\n",
    "    models, sampled_idx = get_models(os.path.join(experiment_folder, \"resampling\", curr_dir), step)\n",
    "    models_vecs = np.array([get_params_vec(m) for m in models.values()])\n",
    "    \n",
    "    largest_arr.append(np.linalg.norm(models_vecs[largest_pair[0]] - models_vecs[largest_pair[1]]))\n",
    "    shortest_arr.append(np.linalg.norm(models_vecs[shortest_pair[0]] - models_vecs[shortest_pair[1]]))\n",
    "    \n",
    "    largest_acc.append([get_net_accuracy(models[str(largest_pair[0])], test_loader), get_net_accuracy(models[str(largest_pair[1])], test_loader)])\n",
    "    shortest_acc.append([get_net_accuracy(models[str(shortest_pair[0])], test_loader), get_net_accuracy(models[str(shortest_pair[1])], test_loader)])\n",
    "\n",
    "\n",
    "    largest_mags.append([np.linalg.norm(models_vecs[largest_pair[0]]), np.linalg.norm(models_vecs[largest_pair[1]])])\n",
    "    shortest_mags.append([np.linalg.norm(models_vecs[shortest_pair[0]]),np.linalg.norm(models_vecs[shortest_pair[1]])])"
   ]
  },
  {
   "cell_type": "code",
   "execution_count": null,
   "metadata": {},
   "outputs": [],
   "source": [
    "plt.plot(list(sorted(step_dir)), largest_arr )\n",
    "plt.show()\n",
    "plt.plot(list(sorted(step_dir)), np.array(largest_acc)[:, 0])\n",
    "plt.plot(list(sorted(step_dir)), np.array(largest_acc)[:, 1])\n",
    "plt.show()\n",
    "\n",
    "plt.plot(list(sorted(step_dir)), np.array(shortest_acc)[:, 0])\n",
    "plt.plot(list(sorted(step_dir)), np.array(shortest_acc)[:, 1])\n",
    "plt.show()\n",
    "\n",
    "\n",
    "plt.plot(list(sorted(step_dir)), np.array(largest_mags)[:, 0])\n",
    "plt.plot(list(sorted(step_dir)), np.array(largest_mags)[:, 1])\n",
    "plt.show()\n",
    "\n",
    "plt.plot(list(sorted(step_dir)), np.array(shortest_mags)[:, 0])\n",
    "plt.plot(list(sorted(step_dir)), np.array(shortest_mags)[:, 1])\n",
    "plt.show()"
   ]
  },
  {
   "cell_type": "code",
   "execution_count": null,
   "metadata": {},
   "outputs": [],
   "source": [
    "largest_acc"
   ]
  },
  {
   "cell_type": "code",
   "execution_count": null,
   "metadata": {},
   "outputs": [],
   "source": []
  }
 ],
 "metadata": {
  "kernelspec": {
   "display_name": "Python 3",
   "language": "python",
   "name": "python3"
  },
  "language_info": {
   "codemirror_mode": {
    "name": "ipython",
    "version": 3
   },
   "file_extension": ".py",
   "mimetype": "text/x-python",
   "name": "python",
   "nbconvert_exporter": "python",
   "pygments_lexer": "ipython3",
   "version": "3.7.3"
  }
 },
 "nbformat": 4,
 "nbformat_minor": 2
}
