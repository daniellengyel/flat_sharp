{
 "cells": [
  {
   "cell_type": "code",
   "execution_count": 33,
   "metadata": {},
   "outputs": [
    {
     "name": "stdout",
     "output_type": "stream",
     "text": [
      "The autoreload extension is already loaded. To reload it, use:\n",
      "  %reload_ext autoreload\n"
     ]
    }
   ],
   "source": [
    "from Functions import *\n",
    "from Kernels import *\n",
    "import autograd.numpy as np\n",
    "import matplotlib.pyplot as plt\n",
    "from autograd import jacobian\n",
    "import plotly.graph_objects as go\n",
    "import utils\n",
    "import time\n",
    "\n",
    "from postprocessing import *\n",
    "\n",
    "\n",
    "%load_ext autoreload\n",
    "\n",
    "\n",
    "%autoreload 2"
   ]
  },
  {
   "cell_type": "code",
   "execution_count": 47,
   "metadata": {},
   "outputs": [
    {
     "ename": "KeyboardInterrupt",
     "evalue": "",
     "output_type": "error",
     "traceback": [
      "\u001b[0;31m---------------------------------------------------------------------------\u001b[0m",
      "\u001b[0;31mKeyboardInterrupt\u001b[0m                         Traceback (most recent call last)",
      "\u001b[0;32m<ipython-input-47-5e24c95c3d13>\u001b[0m in \u001b[0;36m<module>\u001b[0;34m\u001b[0m\n\u001b[1;32m      2\u001b[0m \u001b[0mexp_folder\u001b[0m \u001b[0;34m=\u001b[0m \u001b[0mexp_root\u001b[0m\u001b[0;34m.\u001b[0m\u001b[0mformat\u001b[0m\u001b[0;34m(\u001b[0m\u001b[0;34m\"May06_19-25-51_Daniels-MacBook-Pro-4.local\"\u001b[0m\u001b[0;34m)\u001b[0m\u001b[0;34m\u001b[0m\u001b[0;34m\u001b[0m\u001b[0m\n\u001b[1;32m      3\u001b[0m \u001b[0;34m\u001b[0m\u001b[0m\n\u001b[0;32m----> 4\u001b[0;31m \u001b[0mget_animation\u001b[0m\u001b[0;34m(\u001b[0m\u001b[0mexp_folder\u001b[0m\u001b[0;34m,\u001b[0m \u001b[0;34m\"1588786729.931386\"\u001b[0m\u001b[0;34m)\u001b[0m\u001b[0;34m\u001b[0m\u001b[0;34m\u001b[0m\u001b[0m\n\u001b[0m",
      "\u001b[0;32m~/flat_sharp/toy_examples/postprocessing.py\u001b[0m in \u001b[0;36mget_animation\u001b[0;34m(exp_folder, process_id)\u001b[0m\n\u001b[1;32m     89\u001b[0m     \u001b[0;32mwith\u001b[0m \u001b[0mopen\u001b[0m\u001b[0;34m(\u001b[0m\u001b[0mos\u001b[0m\u001b[0;34m.\u001b[0m\u001b[0mpath\u001b[0m\u001b[0;34m.\u001b[0m\u001b[0mjoin\u001b[0m\u001b[0;34m(\u001b[0m\u001b[0mid_run_folder\u001b[0m\u001b[0;34m,\u001b[0m \u001b[0;34m\"results.pkl\"\u001b[0m\u001b[0;34m)\u001b[0m\u001b[0;34m,\u001b[0m \u001b[0;34m\"rb\"\u001b[0m\u001b[0;34m)\u001b[0m \u001b[0;32mas\u001b[0m \u001b[0mf\u001b[0m\u001b[0;34m:\u001b[0m\u001b[0;34m\u001b[0m\u001b[0;34m\u001b[0m\u001b[0m\n\u001b[1;32m     90\u001b[0m         \u001b[0mall_paths\u001b[0m \u001b[0;34m=\u001b[0m \u001b[0mpickle\u001b[0m\u001b[0;34m.\u001b[0m\u001b[0mload\u001b[0m\u001b[0;34m(\u001b[0m\u001b[0mf\u001b[0m\u001b[0;34m)\u001b[0m\u001b[0;34m\u001b[0m\u001b[0;34m\u001b[0m\u001b[0m\n\u001b[0;32m---> 91\u001b[0;31m     \u001b[0m_get_animation\u001b[0m\u001b[0;34m(\u001b[0m\u001b[0mall_paths\u001b[0m\u001b[0;34m,\u001b[0m \u001b[0mconfig\u001b[0m\u001b[0;34m,\u001b[0m \u001b[0mprocess_id\u001b[0m\u001b[0;34m,\u001b[0m \u001b[0mroot_animations_path\u001b[0m\u001b[0;34m)\u001b[0m\u001b[0;34m\u001b[0m\u001b[0;34m\u001b[0m\u001b[0m\n\u001b[0m\u001b[1;32m     92\u001b[0m \u001b[0;34m\u001b[0m\u001b[0m\n\u001b[1;32m     93\u001b[0m \u001b[0;34m\u001b[0m\u001b[0m\n",
      "\u001b[0;32m~/flat_sharp/toy_examples/postprocessing.py\u001b[0m in \u001b[0;36m_get_animation\u001b[0;34m(all_paths, process, process_id, root_animations_path)\u001b[0m\n\u001b[1;32m     41\u001b[0m                                                             graph_details={\"p_size\": 3,  # \"density_function\": None})\n\u001b[1;32m     42\u001b[0m                                                                            \u001b[0;34m\"density_function\"\u001b[0m\u001b[0;34m:\u001b[0m\u001b[0;34m\u001b[0m\u001b[0;34m\u001b[0m\u001b[0m\n\u001b[0;32m---> 43\u001b[0;31m                                                                                lambda x, p: V(np.array([x]), K, p)})\n\u001b[0m\u001b[1;32m     44\u001b[0m \u001b[0;34m\u001b[0m\u001b[0m\n\u001b[1;32m     45\u001b[0m \u001b[0;34m\u001b[0m\u001b[0m\n",
      "\u001b[0;32m~/flat_sharp/toy_examples/Saving.py\u001b[0m in \u001b[0;36mcreate_animation_1d_pictures_particles\u001b[0;34m(all_paths, X, Y, ani_path, graph_details)\u001b[0m\n\u001b[1;32m     61\u001b[0m \u001b[0;34m\u001b[0m\u001b[0m\n\u001b[1;32m     62\u001b[0m             \u001b[0;32mif\u001b[0m \u001b[0mdensity_function\u001b[0m \u001b[0;32mis\u001b[0m \u001b[0;32mnot\u001b[0m \u001b[0;32mNone\u001b[0m\u001b[0;34m:\u001b[0m\u001b[0;34m\u001b[0m\u001b[0;34m\u001b[0m\u001b[0m\n\u001b[0;32m---> 63\u001b[0;31m                 \u001b[0mY_density\u001b[0m \u001b[0;34m=\u001b[0m \u001b[0mdensity_function\u001b[0m\u001b[0;34m(\u001b[0m\u001b[0mX\u001b[0m\u001b[0;34m,\u001b[0m \u001b[0mcurr_paths\u001b[0m\u001b[0;34m[\u001b[0m\u001b[0;34m:\u001b[0m\u001b[0;34m,\u001b[0m \u001b[0mj\u001b[0m\u001b[0;34m,\u001b[0m \u001b[0;36m0\u001b[0m\u001b[0;34m]\u001b[0m\u001b[0;34m)\u001b[0m\u001b[0;34m\u001b[0m\u001b[0;34m\u001b[0m\u001b[0m\n\u001b[0m\u001b[1;32m     64\u001b[0m                 \u001b[0max2\u001b[0m\u001b[0;34m.\u001b[0m\u001b[0mplot\u001b[0m\u001b[0;34m(\u001b[0m\u001b[0mX\u001b[0m\u001b[0;34m,\u001b[0m \u001b[0mY_density\u001b[0m\u001b[0;34m)\u001b[0m\u001b[0;34m\u001b[0m\u001b[0;34m\u001b[0m\u001b[0m\n\u001b[1;32m     65\u001b[0m \u001b[0;34m\u001b[0m\u001b[0m\n",
      "\u001b[0;32m~/flat_sharp/toy_examples/postprocessing.py\u001b[0m in \u001b[0;36m<lambda>\u001b[0;34m(x, p)\u001b[0m\n\u001b[1;32m     41\u001b[0m                                                             graph_details={\"p_size\": 3,  # \"density_function\": None})\n\u001b[1;32m     42\u001b[0m                                                                            \u001b[0;34m\"density_function\"\u001b[0m\u001b[0;34m:\u001b[0m\u001b[0;34m\u001b[0m\u001b[0;34m\u001b[0m\u001b[0m\n\u001b[0;32m---> 43\u001b[0;31m                                                                                lambda x, p: V(np.array([x]), K, p)})\n\u001b[0m\u001b[1;32m     44\u001b[0m \u001b[0;34m\u001b[0m\u001b[0m\n\u001b[1;32m     45\u001b[0m \u001b[0;34m\u001b[0m\u001b[0m\n",
      "\u001b[0;32m~/flat_sharp/toy_examples/utils.py\u001b[0m in \u001b[0;36mV\u001b[0;34m(x, K, particles)\u001b[0m\n\u001b[1;32m    151\u001b[0m     \u001b[0mret_sum\u001b[0m \u001b[0;34m=\u001b[0m \u001b[0;36m0\u001b[0m\u001b[0;34m\u001b[0m\u001b[0;34m\u001b[0m\u001b[0m\n\u001b[1;32m    152\u001b[0m     \u001b[0;32mfor\u001b[0m \u001b[0mp\u001b[0m \u001b[0;32min\u001b[0m \u001b[0mparticles\u001b[0m\u001b[0;34m:\u001b[0m\u001b[0;34m\u001b[0m\u001b[0;34m\u001b[0m\u001b[0m\n\u001b[0;32m--> 153\u001b[0;31m         \u001b[0mret_sum\u001b[0m \u001b[0;34m+=\u001b[0m \u001b[0mK\u001b[0m\u001b[0;34m(\u001b[0m\u001b[0mx\u001b[0m\u001b[0;34m,\u001b[0m \u001b[0mp\u001b[0m\u001b[0;34m)\u001b[0m\u001b[0;34m\u001b[0m\u001b[0;34m\u001b[0m\u001b[0m\n\u001b[0m\u001b[1;32m    154\u001b[0m     \u001b[0;32mreturn\u001b[0m \u001b[0;36m1\u001b[0m \u001b[0;34m/\u001b[0m \u001b[0mfloat\u001b[0m\u001b[0;34m(\u001b[0m\u001b[0mN\u001b[0m\u001b[0;34m)\u001b[0m \u001b[0;34m*\u001b[0m \u001b[0mret_sum\u001b[0m\u001b[0;34m\u001b[0m\u001b[0;34m\u001b[0m\u001b[0m\n\u001b[1;32m    155\u001b[0m \u001b[0;34m\u001b[0m\u001b[0m\n",
      "\u001b[0;32m~/flat_sharp/toy_examples/Kernels.py\u001b[0m in \u001b[0;36mmulti_gaussian_helper\u001b[0;34m(inp, mu)\u001b[0m\n\u001b[1;32m     12\u001b[0m         \u001b[0mk\u001b[0m \u001b[0;34m=\u001b[0m \u001b[0minp\u001b[0m\u001b[0;34m.\u001b[0m\u001b[0mshape\u001b[0m\u001b[0;34m[\u001b[0m\u001b[0;36m0\u001b[0m\u001b[0;34m]\u001b[0m\u001b[0;34m\u001b[0m\u001b[0;34m\u001b[0m\u001b[0m\n\u001b[1;32m     13\u001b[0m         \u001b[0mdiff\u001b[0m \u001b[0;34m=\u001b[0m \u001b[0;34m(\u001b[0m\u001b[0minp\u001b[0m\u001b[0;34m.\u001b[0m\u001b[0mT\u001b[0m \u001b[0;34m-\u001b[0m \u001b[0mmu\u001b[0m\u001b[0;34m)\u001b[0m\u001b[0;34m.\u001b[0m\u001b[0mT\u001b[0m\u001b[0;34m\u001b[0m\u001b[0;34m\u001b[0m\u001b[0m\n\u001b[0;32m---> 14\u001b[0;31m         \u001b[0mcov_inv_prod\u001b[0m \u001b[0;34m=\u001b[0m \u001b[0mnp\u001b[0m\u001b[0;34m.\u001b[0m\u001b[0mdot\u001b[0m\u001b[0;34m(\u001b[0m\u001b[0mnp\u001b[0m\u001b[0;34m.\u001b[0m\u001b[0mlinalg\u001b[0m\u001b[0;34m.\u001b[0m\u001b[0minv\u001b[0m\u001b[0;34m(\u001b[0m\u001b[0mcov\u001b[0m\u001b[0;34m)\u001b[0m\u001b[0;34m,\u001b[0m \u001b[0mdiff\u001b[0m\u001b[0;34m)\u001b[0m\u001b[0;34m\u001b[0m\u001b[0;34m\u001b[0m\u001b[0m\n\u001b[0m\u001b[1;32m     15\u001b[0m         return 1 / np.sqrt(pow(2 * np.pi, k) * np.linalg.det(cov)) * np.exp(\n\u001b[1;32m     16\u001b[0m             -0.5 * np.sum(diff*(cov_inv_prod), axis=0))\n",
      "\u001b[0;32m/usr/local/lib/python3.7/site-packages/autograd/tracer.py\u001b[0m in \u001b[0;36mf_wrapped\u001b[0;34m(*args, **kwargs)\u001b[0m\n\u001b[1;32m     46\u001b[0m             \u001b[0;32mreturn\u001b[0m \u001b[0mnew_box\u001b[0m\u001b[0;34m(\u001b[0m\u001b[0mans\u001b[0m\u001b[0;34m,\u001b[0m \u001b[0mtrace\u001b[0m\u001b[0;34m,\u001b[0m \u001b[0mnode\u001b[0m\u001b[0;34m)\u001b[0m\u001b[0;34m\u001b[0m\u001b[0;34m\u001b[0m\u001b[0m\n\u001b[1;32m     47\u001b[0m         \u001b[0;32melse\u001b[0m\u001b[0;34m:\u001b[0m\u001b[0;34m\u001b[0m\u001b[0;34m\u001b[0m\u001b[0m\n\u001b[0;32m---> 48\u001b[0;31m             \u001b[0;32mreturn\u001b[0m \u001b[0mf_raw\u001b[0m\u001b[0;34m(\u001b[0m\u001b[0;34m*\u001b[0m\u001b[0margs\u001b[0m\u001b[0;34m,\u001b[0m \u001b[0;34m**\u001b[0m\u001b[0mkwargs\u001b[0m\u001b[0;34m)\u001b[0m\u001b[0;34m\u001b[0m\u001b[0;34m\u001b[0m\u001b[0m\n\u001b[0m\u001b[1;32m     49\u001b[0m     \u001b[0mf_wrapped\u001b[0m\u001b[0;34m.\u001b[0m\u001b[0mfun\u001b[0m \u001b[0;34m=\u001b[0m \u001b[0mf_raw\u001b[0m\u001b[0;34m\u001b[0m\u001b[0;34m\u001b[0m\u001b[0m\n\u001b[1;32m     50\u001b[0m     \u001b[0mf_wrapped\u001b[0m\u001b[0;34m.\u001b[0m\u001b[0m_is_autograd_primitive\u001b[0m \u001b[0;34m=\u001b[0m \u001b[0;32mTrue\u001b[0m\u001b[0;34m\u001b[0m\u001b[0;34m\u001b[0m\u001b[0m\n",
      "\u001b[0;32m/usr/local/lib/python3.7/site-packages/numpy/linalg/linalg.py\u001b[0m in \u001b[0;36minv\u001b[0;34m(a)\u001b[0m\n\u001b[1;32m    548\u001b[0m \u001b[0;34m\u001b[0m\u001b[0m\n\u001b[1;32m    549\u001b[0m     \u001b[0msignature\u001b[0m \u001b[0;34m=\u001b[0m \u001b[0;34m'D->D'\u001b[0m \u001b[0;32mif\u001b[0m \u001b[0misComplexType\u001b[0m\u001b[0;34m(\u001b[0m\u001b[0mt\u001b[0m\u001b[0;34m)\u001b[0m \u001b[0;32melse\u001b[0m \u001b[0;34m'd->d'\u001b[0m\u001b[0;34m\u001b[0m\u001b[0;34m\u001b[0m\u001b[0m\n\u001b[0;32m--> 550\u001b[0;31m     \u001b[0mextobj\u001b[0m \u001b[0;34m=\u001b[0m \u001b[0mget_linalg_error_extobj\u001b[0m\u001b[0;34m(\u001b[0m\u001b[0m_raise_linalgerror_singular\u001b[0m\u001b[0;34m)\u001b[0m\u001b[0;34m\u001b[0m\u001b[0;34m\u001b[0m\u001b[0m\n\u001b[0m\u001b[1;32m    551\u001b[0m     \u001b[0mainv\u001b[0m \u001b[0;34m=\u001b[0m \u001b[0m_umath_linalg\u001b[0m\u001b[0;34m.\u001b[0m\u001b[0minv\u001b[0m\u001b[0;34m(\u001b[0m\u001b[0ma\u001b[0m\u001b[0;34m,\u001b[0m \u001b[0msignature\u001b[0m\u001b[0;34m=\u001b[0m\u001b[0msignature\u001b[0m\u001b[0;34m,\u001b[0m \u001b[0mextobj\u001b[0m\u001b[0;34m=\u001b[0m\u001b[0mextobj\u001b[0m\u001b[0;34m)\u001b[0m\u001b[0;34m\u001b[0m\u001b[0;34m\u001b[0m\u001b[0m\n\u001b[1;32m    552\u001b[0m     \u001b[0;32mreturn\u001b[0m \u001b[0mwrap\u001b[0m\u001b[0;34m(\u001b[0m\u001b[0mainv\u001b[0m\u001b[0;34m.\u001b[0m\u001b[0mastype\u001b[0m\u001b[0;34m(\u001b[0m\u001b[0mresult_t\u001b[0m\u001b[0;34m,\u001b[0m \u001b[0mcopy\u001b[0m\u001b[0;34m=\u001b[0m\u001b[0;32mFalse\u001b[0m\u001b[0;34m)\u001b[0m\u001b[0;34m)\u001b[0m\u001b[0;34m\u001b[0m\u001b[0;34m\u001b[0m\u001b[0m\n",
      "\u001b[0;32m/usr/local/lib/python3.7/site-packages/numpy/linalg/linalg.py\u001b[0m in \u001b[0;36mget_linalg_error_extobj\u001b[0;34m(callback)\u001b[0m\n\u001b[1;32m    110\u001b[0m \u001b[0;34m\u001b[0m\u001b[0m\n\u001b[1;32m    111\u001b[0m \u001b[0;32mdef\u001b[0m \u001b[0mget_linalg_error_extobj\u001b[0m\u001b[0;34m(\u001b[0m\u001b[0mcallback\u001b[0m\u001b[0;34m)\u001b[0m\u001b[0;34m:\u001b[0m\u001b[0;34m\u001b[0m\u001b[0;34m\u001b[0m\u001b[0m\n\u001b[0;32m--> 112\u001b[0;31m     \u001b[0mextobj\u001b[0m \u001b[0;34m=\u001b[0m \u001b[0mlist\u001b[0m\u001b[0;34m(\u001b[0m\u001b[0m_linalg_error_extobj\u001b[0m\u001b[0;34m)\u001b[0m  \u001b[0;31m# make a copy\u001b[0m\u001b[0;34m\u001b[0m\u001b[0;34m\u001b[0m\u001b[0m\n\u001b[0m\u001b[1;32m    113\u001b[0m     \u001b[0mextobj\u001b[0m\u001b[0;34m[\u001b[0m\u001b[0;36m2\u001b[0m\u001b[0;34m]\u001b[0m \u001b[0;34m=\u001b[0m \u001b[0mcallback\u001b[0m\u001b[0;34m\u001b[0m\u001b[0;34m\u001b[0m\u001b[0m\n\u001b[1;32m    114\u001b[0m     \u001b[0;32mreturn\u001b[0m \u001b[0mextobj\u001b[0m\u001b[0;34m\u001b[0m\u001b[0;34m\u001b[0m\u001b[0m\n",
      "\u001b[0;31mKeyboardInterrupt\u001b[0m: "
     ]
    }
   ],
   "source": [
    "exp_root = \"/Users/daniellengyel/flat_sharp/toy_examples/experiments/gaussian/{}\"\n",
    "exp_folder = exp_root.format(\"May06_19-25-51_Daniels-MacBook-Pro-4.local\")\n",
    "\n",
    "get_animation(exp_folder, \"1588786729.931386\") "
   ]
  },
  {
   "cell_type": "code",
   "execution_count": 3,
   "metadata": {},
   "outputs": [],
   "source": [
    "auto_U = lambda *inp: jacobian(trace_multi_gaussian(np.array([[1]])), 0)(*inp)"
   ]
  },
  {
   "cell_type": "code",
   "execution_count": 3,
   "metadata": {},
   "outputs": [],
   "source": [
    "def smooth(inp, out, K):\n",
    "    \"\"\"Assumes that inp[i] - inp[i-1] = d for all i\"\"\"\n",
    "    k_inp = []\n",
    "    for x in inp:\n",
    "        d = x[1] - x[0]\n",
    "        assert d > 0\n",
    "        tmp = np.linspace(int(float(-len(x)*d)/2), int(float(len(x)*d)/2), len(x) + 1 - len(x)%2)[:len(x)]\n",
    "        k_inp.append(tmp)\n",
    "    k_inp = np.array(k_inp)\n",
    "    kernel = K(k_inp, np.array([0] * len(inp)))\n",
    "    return np.convolve(out, kernel, \"same\")\n"
   ]
  },
  {
   "cell_type": "code",
   "execution_count": 4,
   "metadata": {},
   "outputs": [
    {
     "ename": "NameError",
     "evalue": "name 'inp' is not defined",
     "output_type": "error",
     "traceback": [
      "\u001b[0;31m---------------------------------------------------------------------------\u001b[0m",
      "\u001b[0;31mNameError\u001b[0m                                 Traceback (most recent call last)",
      "\u001b[0;32m<ipython-input-4-b741753faf13>\u001b[0m in \u001b[0;36m<module>\u001b[0;34m\u001b[0m\n\u001b[1;32m      1\u001b[0m \u001b[0ma\u001b[0m \u001b[0;34m=\u001b[0m \u001b[0mtime\u001b[0m\u001b[0;34m.\u001b[0m\u001b[0mtime\u001b[0m\u001b[0;34m(\u001b[0m\u001b[0;34m)\u001b[0m\u001b[0;34m\u001b[0m\u001b[0;34m\u001b[0m\u001b[0m\n\u001b[0;32m----> 2\u001b[0;31m \u001b[0;32mfor\u001b[0m \u001b[0mi\u001b[0m \u001b[0;32min\u001b[0m \u001b[0minp\u001b[0m\u001b[0;34m.\u001b[0m\u001b[0mT\u001b[0m\u001b[0;34m:\u001b[0m\u001b[0;34m\u001b[0m\u001b[0;34m\u001b[0m\u001b[0m\n\u001b[0m\u001b[1;32m      3\u001b[0m     \u001b[0mauto_U\u001b[0m\u001b[0;34m(\u001b[0m\u001b[0mnp\u001b[0m\u001b[0;34m.\u001b[0m\u001b[0marray\u001b[0m\u001b[0;34m(\u001b[0m\u001b[0;34m[\u001b[0m\u001b[0mi\u001b[0m\u001b[0;34m]\u001b[0m\u001b[0;34m)\u001b[0m\u001b[0;34m,\u001b[0m \u001b[0mnp\u001b[0m\u001b[0;34m.\u001b[0m\u001b[0marray\u001b[0m\u001b[0;34m(\u001b[0m\u001b[0;34m[\u001b[0m\u001b[0;36m1\u001b[0m\u001b[0;34m]\u001b[0m\u001b[0;34m)\u001b[0m\u001b[0;34m)\u001b[0m\u001b[0;34m\u001b[0m\u001b[0;34m\u001b[0m\u001b[0m\n\u001b[1;32m      4\u001b[0m \u001b[0mprint\u001b[0m\u001b[0;34m(\u001b[0m\u001b[0mtime\u001b[0m\u001b[0;34m.\u001b[0m\u001b[0mtime\u001b[0m\u001b[0;34m(\u001b[0m\u001b[0;34m)\u001b[0m \u001b[0;34m-\u001b[0m\u001b[0ma\u001b[0m \u001b[0;34m)\u001b[0m\u001b[0;34m\u001b[0m\u001b[0;34m\u001b[0m\u001b[0m\n",
      "\u001b[0;31mNameError\u001b[0m: name 'inp' is not defined"
     ]
    }
   ],
   "source": [
    "a = time.time()\n",
    "for i in inp.T:\n",
    "    auto_U(np.array([i]), np.array([1]))\n",
    "print(time.time() -a )"
   ]
  },
  {
   "cell_type": "code",
   "execution_count": 58,
   "metadata": {},
   "outputs": [],
   "source": [
    "def grad_trace_squared_hessian_multi_gaussian(cov):\n",
    "    def helper(inp, mu):\n",
    "        k = inp.shape[0]\n",
    "        diff = (inp.T - mu).T\n",
    "\n",
    "        mg = multi_gaussian(cov)(inp, mu)\n",
    "\n",
    "        cov_inv_prod = np.dot(np.linalg.inv(cov), diff)\n",
    "        \n",
    "\n",
    "        C = -np.diag(np.linalg.inv(cov))[:, np.newaxis] + cov_inv_prod * cov_inv_prod\n",
    "        A = 2 * np.sum(C.T[:, np.newaxis, :] * (np.linalg.inv(cov))[np.newaxis, :, :] * cov_inv_prod.T[:, np.newaxis, :], axis=-1).T\n",
    "        B = - 2 * np.sum(np.matmul((C * C).T[:, :, np.newaxis], cov_inv_prod.T[:, np.newaxis, :]).T, axis=0)\n",
    "        grad_term = 2 * A + B\n",
    "        return mg ** 2 * grad_term\n",
    "\n",
    "    return helper"
   ]
  },
  {
   "cell_type": "code",
   "execution_count": 126,
   "metadata": {},
   "outputs": [
    {
     "data": {
      "text/plain": [
       "<matplotlib.lines.Line2D at 0x18613de48>"
      ]
     },
     "execution_count": 126,
     "metadata": {},
     "output_type": "execute_result"
    },
    {
     "data": {
      "image/png": "[encoded data removed]",
      "text/plain": [
       "<Figure size 432x288 with 1 Axes>"
      ]
     },
     "metadata": {
      "needs_background": "light"
     },
     "output_type": "display_data"
    }
   ],
   "source": [
    "g_params = [[-17.5, 1, -2], [17.5, 10, -6.5], [-2, 15, -2], [-35, 1, 3], [35, 1, 3]]\n",
    "x = np.linspace(-35, 35, 200)\n",
    "inp = np.array([x])\n",
    "out = gaussian_sum(g_params)(inp)\n",
    "grad_out = grad_gaussian_sum(g_params)(inp)\n",
    "\n",
    "plt.plot(x, out)\n",
    "attractive_basins = np.array([[-23.      , -13.625   ], [-13.625   ,   7.609375], [  7.609375,  30.  ]]) # hard coded for now\n",
    "\n",
    "for a in attractive_basins:\n",
    "    \n",
    "    plt.axvline(x=a[0], color=\"black\")\n",
    "\n",
    "plt.axvline(x=a[1], color=\"black\")\n",
    "\n",
    "\n",
    "# plt.plot(x, grad_out[0])\n",
    "# plt.scatter(bees[:, 0], np.zeros(len(bees)))\n",
    "# plt.scatter(bees[:, 1], np.zeros(len(bees)))\n",
    "\n",
    "# plt.savefig(\"simple_gaussian.png\")\n"
   ]
  },
  {
   "cell_type": "code",
   "execution_count": 121,
   "metadata": {},
   "outputs": [
    {
     "data": {
      "text/plain": [
       "array([[-35.   ,  -6.   ],\n",
       "       [ -6.   ,  -5.625],\n",
       "       [ -5.625,   5.625],\n",
       "       [  5.625,  30.   ],\n",
       "       [ 30.   ,  35.   ]])"
      ]
     },
     "execution_count": 121,
     "metadata": {},
     "output_type": "execute_result"
    }
   ],
   "source": [
    "bees"
   ]
  },
  {
   "cell_type": "code",
   "execution_count": 123,
   "metadata": {},
   "outputs": [
    {
     "data": {
      "image/png": "[encoded data removed]",
      "text/plain": [
       "<Figure size 432x288 with 1 Axes>"
      ]
     },
     "metadata": {
      "needs_background": "light"
     },
     "output_type": "display_data"
    }
   ],
   "source": [
    "g_params = [[-17.5, 10, -6.5], [0, 2, -3], [17.5, 10, -6.5], [-35, 1, 3], [35, 1, 3]]\n",
    "x = np.linspace(-35, 35, 200)\n",
    "inp = np.array([x])\n",
    "out = gaussian_sum(g_params)(inp)\n",
    "grad_out = grad_gaussian_sum(g_params)(inp)\n",
    "\n",
    "plt.plot(x, out)\n",
    "# plt.plot(x, grad_out[0])\n",
    "attractive_basins = [[-30, -6], [-6, 6], [6, 30]]\n",
    "# plt.scatter(bees[:, 0], np.zeros(len(bees)))\n",
    "# plt.scatter(bees[:, 1], np.zeros(len(bees)))\n",
    "for a in attractive_basins:\n",
    "    \n",
    "    plt.axvline(x=a[0], color=\"black\")\n",
    "\n",
    "plt.axvline(x=a[1], color=\"black\")\n",
    "\n",
    "\n",
    "plt.savefig(\"symmetric_simple_gaussian.png\")\n"
   ]
  },
  {
   "cell_type": "code",
   "execution_count": 81,
   "metadata": {},
   "outputs": [
    {
     "data": {
      "text/plain": [
       "-1.410339017580506e-06"
      ]
     },
     "execution_count": 81,
     "metadata": {},
     "output_type": "execute_result"
    }
   ],
   "source": [
    "def approx_E(f, N, mu, var):\n",
    "    xs = np.random.normal(loc=mu, scale=var, size=(1, N))\n",
    "    out = np.sum(np.exp(-f(xs)))/float(N) #* np.sqrt(2 * np.pi * var)\n",
    "    return -np.log(out)\n",
    "\n",
    "f = gaussian_sum(g_params)\n",
    "approx_E(f, 100000, 0, 1)\n",
    "    "
   ]
  },
  {
   "cell_type": "code",
   "execution_count": 128,
   "metadata": {},
   "outputs": [
    {
     "data": {
      "image/png": "[encoded data removed]",
      "text/plain": [
       "<Figure size 432x288 with 1 Axes>"
      ]
     },
     "metadata": {
      "needs_background": "light"
     },
     "output_type": "display_data"
    }
   ],
   "source": [
    "out = []\n",
    "f = gaussian_sum(g_params)\n",
    "\n",
    "for x in inp[0]:\n",
    "    out.append(approx_E(f, 10000, x, 5.))\n",
    "\n",
    "plt.plot(out)\n",
    "plt.show()"
   ]
  },
  {
   "cell_type": "code",
   "execution_count": 42,
   "metadata": {},
   "outputs": [
    {
     "data": {
      "text/plain": [
       "array([[0.00043707]])"
      ]
     },
     "execution_count": 42,
     "metadata": {},
     "output_type": "execute_result"
    }
   ],
   "source": [
    "grad_gaussian_sum(g_params)(np.array([[30]]))"
   ]
  },
  {
   "cell_type": "code",
   "execution_count": 32,
   "metadata": {},
   "outputs": [
    {
     "data": {
      "text/plain": [
       "array([[-35.      , -29.      ],\n",
       "       [-29.      , -27.      ],\n",
       "       [-27.      , -25.      ],\n",
       "       [-25.      , -23.      ],\n",
       "       [-23.      , -13.625   ],\n",
       "       [-13.625   ,  -2.      ],\n",
       "       [ -2.      ,   7.609375],\n",
       "       [  7.609375,  35.      ]])"
      ]
     },
     "execution_count": 32,
     "metadata": {},
     "output_type": "execute_result"
    }
   ],
   "source": [
    "bees"
   ]
  },
  {
   "cell_type": "code",
   "execution_count": 28,
   "metadata": {},
   "outputs": [],
   "source": [
    "def find_basins(grad_f, bounds, smallest_diameter, eps, plateau_eps):\n",
    "    \"\"\"Finds all attractive basisn with smallest diameter given. eps tells us when we can stop finding zero i.e. when we have found x s.t. |f(x)| < eps\"\"\"\n",
    "    n = (bounds[1] - bounds[0])/(smallest_diameter * 2)\n",
    "    xs = np.linspace(bounds[0], bounds[1], int(n) + 1)\n",
    "    outs = grad_f(np.array([xs]))[0]\n",
    "    \n",
    "    basins = []\n",
    "    left_p = bounds[0]\n",
    "    passed_minimum = False\n",
    "    \n",
    "    for i in range(1, int(n)):\n",
    "        out = outs[i]\n",
    "        \n",
    "        if (outs[i - 1] >=0 ) and (outs[i] <= 0):\n",
    "            right_p = binary_search_zero(grad_f, np.array([xs[i - 1]]), np.array([xs[i]]), eps)[0]\n",
    "            basins.append([left_p, right_p])\n",
    "            left_p = right_p\n",
    "        elif (abs(outs[i]) < plateau_eps):\n",
    "            if not passed_minimum:\n",
    "                passed_minimum = True\n",
    "            else:\n",
    "                right_p = xs[i]\n",
    "                basins.append([left_p, right_p])\n",
    "                left_p = right_p\n",
    "                passed_minimum = False\n",
    "\n",
    "    if left_p != xs[-1]:\n",
    "        basins.append([left_p, xs[-1]])\n",
    "    return np.array(basins)\n",
    "\n",
    "def binary_search_zero(f, a, b, eps):    \n",
    "    while True:\n",
    "        new_x = (b + a)/2.\n",
    "        if abs(f(new_x)) < eps:\n",
    "            return new_x\n",
    "        if any(f(new_x) < 0):\n",
    "            b = new_x\n",
    "        else:\n",
    "            a = new_x\n",
    "            \n",
    "        "
   ]
  },
  {
   "cell_type": "code",
   "execution_count": 118,
   "metadata": {},
   "outputs": [],
   "source": [
    "bees = find_basins(grad_gaussian_sum(g_params), [-35, 35], 0.5, 0.0001, 0.001)"
   ]
  },
  {
   "cell_type": "code",
   "execution_count": 119,
   "metadata": {},
   "outputs": [
    {
     "data": {
      "text/plain": [
       "array([[5.63476562]])"
      ]
     },
     "execution_count": 119,
     "metadata": {},
     "output_type": "execute_result"
    }
   ],
   "source": [
    "binary_search_zero(grad_gaussian_sum(g_params), np.array([[0]]), np.array([[20]]), 0.00001)"
   ]
  },
  {
   "cell_type": "code",
   "execution_count": 60,
   "metadata": {},
   "outputs": [
    {
     "name": "stdout",
     "output_type": "stream",
     "text": [
      "(1, 1)\n",
      "(1, 1)\n",
      "(1, 1)\n",
      "(1, 1, 1)\n",
      "(1, 1, 1)\n",
      "0.0003180503845214844\n",
      "[[0]]\n",
      "0.0001373291015625\n",
      "0.00016880035400390625\n",
      "[[0]]\n"
     ]
    }
   ],
   "source": [
    "A = np.array([[1]])\n",
    "\n",
    "mu = np.array([0])\n",
    "\n",
    "diff = (inp.T - mu).T\n",
    "diff = np.array([[1]])\n",
    "\n",
    "print(diff.shape)\n",
    "\n",
    "c = np.dot(A, diff)\n",
    "\n",
    "b = -np.diag(A)[:, np.newaxis] + c * c\n",
    "\n",
    "print(b.shape)\n",
    "print(c.shape)\n",
    "\n",
    "a = time.time()\n",
    "temp = b.T[:, np.newaxis, :] * A[np.newaxis, :, :]\n",
    "print(temp.shape)\n",
    "s = temp * c[:, np.newaxis, :].T\n",
    "print(s.shape)\n",
    "s = np.sum(s, axis=-1)\n",
    "print(time.time() -a )\n",
    "print(s)\n",
    "\n",
    "a = time.time()\n",
    "t = np.sum(b.T[:, np.newaxis, :] * A[np.newaxis, :, :] * c, axis=-1).T\n",
    "print(time.time() -a )\n",
    "\n",
    "a = time.time()\n",
    "B = - 2 * np.sum(np.matmul((b*b).T[:, :, np.newaxis], c.T[:, np.newaxis, :]).T, axis=0)\n",
    "print(time.time() - a)\n",
    "print(t)\n",
    "\n",
    "assert np.array_equal(s, t)"
   ]
  },
  {
   "cell_type": "code",
   "execution_count": 61,
   "metadata": {},
   "outputs": [
    {
     "name": "stdout",
     "output_type": "stream",
     "text": [
      "(1, 5000)\n",
      "(1, 5000)\n",
      "9.298324584960938e-05\n",
      "0.00036215782165527344\n",
      "0.0014688968658447266\n"
     ]
    }
   ],
   "source": [
    "a = time.time()\n",
    "grad_trace_squared_hessian_multi_gaussian(A)(inp, mu)\n",
    "print(time.time() - a)"
   ]
  },
  {
   "cell_type": "code",
   "execution_count": 23,
   "metadata": {},
   "outputs": [
    {
     "name": "stdout",
     "output_type": "stream",
     "text": [
      "0.0012946128845214844\n",
      "0.07410812377929688\n",
      "0.0787348747253418\n",
      "0.07846212387084961\n",
      "0.06668424606323242\n",
      "0.06281208992004395\n",
      "0.36577486991882324\n"
     ]
    }
   ],
   "source": [
    "g_params = [[-10, 1, -2], [0, 10, -1], [10, 3, 1], [-20, 1, 3], [20, 1, 3]]\n",
    "\n",
    "inp = np.linspace(-20, 20, 5000)\n",
    "inp = np.array([inp])\n",
    "U = grad_gaussian_sum(g_params)\n",
    "reg_U = grad_trace_hessian_gaussian_sum(g_params)\n",
    "\n",
    "a = time.time()\n",
    "# reg_U(inp)\n",
    "U(inp)\n",
    "print(time.time() - a)\n",
    "\n",
    "a = time.time()\n",
    "# reg_U(inp)\n",
    "reg_U(inp)\n",
    "print(time.time() - a)\n"
   ]
  },
  {
   "cell_type": "markdown",
   "metadata": {},
   "source": [
    "# 1D functions"
   ]
  },
  {
   "cell_type": "code",
   "execution_count": null,
   "metadata": {},
   "outputs": [],
   "source": [
    "X = np.linspace(-15, 15, 1000)\n",
    "inp = np.array([X])\n",
    "\n",
    "out = flat_sharp_gaussian(inp)\n",
    "K = multi_gaussian(np.array([[10]]))\n",
    "smooth_out = smooth(inp, out, K) * 0.1\n",
    "\n",
    "plt.plot(X, out)\n",
    "plt.plot(X, smooth_out)\n",
    "plt.show()"
   ]
  },
  {
   "cell_type": "code",
   "execution_count": null,
   "metadata": {},
   "outputs": [],
   "source": [
    "K = multi_gaussian(np.array([[10]]))\n",
    "X = np.linspace(-15, 15, 1000)\n",
    "out = K(np.array([X.T]), np.array([0]))\n",
    "\n",
    "plt.plot(out)\n",
    "plt.show()\n"
   ]
  },
  {
   "cell_type": "code",
   "execution_count": null,
   "metadata": {},
   "outputs": [],
   "source": [
    "X = np.linspace(-50, 50, 1000)\n",
    "inp = np.array([X])\n",
    "\n",
    "g_params = [[-40, 0.7, -2],[-30, 0.7, -1.5],[-5, 0.7, -1], [35, 0.7, -1.5], \n",
    "            [-17.5, 30, -3], [5, 10, -1.5], [14, 3, 1], [25, 10, -0.5], \n",
    "            [-50, 1, 3], [50, 1, 3]]\n",
    "func = gaussian_sum(g_params) # AckleyProblem # \n",
    "g_func = GradAckleyProblem # grad_gaussian_sum(g_params)\n",
    "\n",
    "out = func(inp)\n",
    "K = multi_gaussian(np.array([[1]]))\n",
    "smooth_out = smooth(inp, out, K)\n",
    "\n",
    "out_grad = g_func(inp)\n",
    "# out_grad = grad(flat_sharp_hill_gaussian)(inp) #grad_flat_sharp_hill_gaussian(inp)\n",
    "\n",
    "plt.plot(X, out)\n",
    "# plt.plot(X, out_grad[0])\n",
    "\n",
    "plt.show()"
   ]
  },
  {
   "cell_type": "code",
   "execution_count": null,
   "metadata": {},
   "outputs": [],
   "source": [
    "X = np.linspace(-5, 5, 100)\n",
    "Y = np.linspace(-5, 5, 100)\n",
    "\n",
    "inp = np.array(np.meshgrid(X, Y)).reshape(2, len(X)*len(Y))\n",
    "\n",
    "g_func = GradAckleyProblem\n",
    "out = g_func(inp)"
   ]
  },
  {
   "cell_type": "code",
   "execution_count": null,
   "metadata": {},
   "outputs": [],
   "source": [
    "np.linalg.norm(g_func(inp), axis=0).shape"
   ]
  },
  {
   "cell_type": "code",
   "execution_count": null,
   "metadata": {},
   "outputs": [],
   "source": [
    "inp[0][0]"
   ]
  },
  {
   "cell_type": "code",
   "execution_count": null,
   "metadata": {},
   "outputs": [],
   "source": [
    "out.shape"
   ]
  },
  {
   "cell_type": "code",
   "execution_count": null,
   "metadata": {
    "scrolled": true
   },
   "outputs": [],
   "source": [
    "X = np.linspace(-10, 10, 1000)\n",
    "inp = np.array([X])\n",
    "\n",
    "out = (inp[0]/1.5)**3 + (inp[0] - 8)**2 + (inp[0] + 4)**2 + (-inp[0]*10 + 4)\n",
    "\n",
    "plt.plot(X, out)\n",
    "plt.show()\n"
   ]
  },
  {
   "cell_type": "code",
   "execution_count": null,
   "metadata": {},
   "outputs": [],
   "source": [
    "X = np.linspace(-2, 2, 1000)\n",
    "inp = np.array([X])\n",
    "\n",
    "out = one_D_shallow(inp)\n",
    "out_grad = grad_one_D_shallow(inp)\n",
    "\n",
    "plt.plot(X, out)\n",
    "plt.plot(X, out_grad[0])\n",
    "plt.show()\n"
   ]
  },
  {
   "cell_type": "markdown",
   "metadata": {},
   "source": [
    "# 2D functions"
   ]
  },
  {
   "cell_type": "code",
   "execution_count": null,
   "metadata": {},
   "outputs": [],
   "source": [
    "def multi_gaussian(cov):\n",
    "    def multi_gaussian_helper(inp, mu):\n",
    "        \"\"\"same mu for every datapoint given in ipn\"\"\"\n",
    "        k = inp.shape[0]\n",
    "        diff = (inp.T - mu).T        \n",
    "        return 1 / np.sqrt(pow(2 * np.pi, k) * np.linalg.det(cov)) * np.exp(\n",
    "            -0.5 * np.sum(diff*(np.linalg.inv(cov).dot(diff)), axis=0))\n",
    "    return multi_gaussian_helper"
   ]
  },
  {
   "cell_type": "code",
   "execution_count": null,
   "metadata": {},
   "outputs": [],
   "source": [
    "def himmelblau_2d(inp):\n",
    "    x = inp[0]\n",
    "    y = inp[1]\n",
    "    return (x**2 + y - 11)**2 + (x + y**2 - 11)**2"
   ]
  },
  {
   "cell_type": "code",
   "execution_count": null,
   "metadata": {},
   "outputs": [],
   "source": [
    "def weight_function_discounted_norm(U, grad_U, x, curr_weights, gamma=1, partials=None):\n",
    "    grad = grad_U(x.T)\n",
    "    if partials is not None:\n",
    "        grad = grad[partials]\n",
    "    return gamma * curr_weights + np.linalg.norm(grad, axis=0)"
   ]
  },
  {
   "cell_type": "code",
   "execution_count": null,
   "metadata": {},
   "outputs": [],
   "source": [
    "# g_params = [[-40, 0.7, -2],[-30, 0.7, -1.5],[-5, 0.7, -1], [35, 0.7, -1.5], \n",
    "#             [-17.5, 30, -3], [5, 10, -1.5], [14, 3, 1], [25, 10, -0.5], \n",
    "#             [-50, 1, 3], [50, 1, 3]]\n",
    "g_params = [[-10, 1, -2], [0, 10, -1], [10, 3, 1], [-20, 1, 3], [20, 1, 3]]\n",
    "\n",
    "process = {}\n",
    "\n",
    "process[\"particle_init\"] = {\"name\": \"2d_uniform\", \n",
    "                            \"num_particles\": 5000}\n",
    "\n",
    "process[\"potential_function\"] = {\"name\": \"2d_gaussian_symmetric\", #} \n",
    "                                 \"params\": g_params}\n",
    "\n",
    "process[\"total_iter\"] = 20\n",
    "process[\"tau\"] = 20\n",
    "process[\"x_range\"] = [-25, 25]\n",
    "\n",
    "process[\"gamma\"] = 0.1\n",
    "process[\"temperature\"] = 0.5\n",
    "process[\"epsilon\"] = 0\n",
    "\n",
    "process[\"weight_function\"] = {\"name\": \"norm\"} \n",
    "process[\"resample_function\"] = {\"name\": \"softmax\", \"params\": {\"beta\": -0.05}} \n",
    "\n",
    "process[\"domain_enforcer\"] = {\"name\": \"hyper_cube_enforcer\", \"params\": {\"strength\": 0.2}}"
   ]
  },
  {
   "cell_type": "code",
   "execution_count": null,
   "metadata": {},
   "outputs": [],
   "source": [
    "X = np.linspace(-50, 50, 1000)\n",
    "inp = np.array([X])\n",
    "\n",
    "\n",
    "func = gaussian_sum(g_params) # AckleyProblem # \n",
    "# g_func = GradAckleyProblem # grad_gaussian_sum(g_params)\n",
    "\n",
    "out = func(inp)\n",
    "# K = multi_gaussian(np.array([[1]]))\n",
    "# smooth_out = smooth(inp, out, K)\n",
    "\n",
    "out_grad = g_func(inp)\n",
    "# out_grad = grad(flat_sharp_hill_gaussian)(inp) #grad_flat_sharp_hill_gaussian(inp)\n",
    "\n",
    "plt.plot(X, out)\n",
    "# plt.plot(X, out_grad[0])\n",
    "\n",
    "plt.show()"
   ]
  },
  {
   "cell_type": "code",
   "execution_count": null,
   "metadata": {},
   "outputs": [],
   "source": [
    "g_params = [[-10, 1, -2], [0, 10, -1], [10, 3, 1], [-20, 1, 3], [20, 1, 3]]\n",
    "\n",
    "U, grad_U = utils.get_potential(process)\n",
    "\n",
    "X = np.linspace(-20, 20, 100)\n",
    "Y = np.linspace(-20, 20, 100)\n",
    "inp = np.array(np.meshgrid(X, Y)).reshape(2, len(X)*len(Y))\n",
    "\n",
    "\n",
    "out = U(inp) #grad_U(inp)[0] #\n",
    "out = out.reshape(len(X), len(Y))\n"
   ]
  },
  {
   "cell_type": "code",
   "execution_count": null,
   "metadata": {},
   "outputs": [],
   "source": [
    "K = multi_gaussian(np.array([[10, 5], [5, 5]]))\n",
    "\n",
    "X = np.linspace(-15, 15, 100)\n",
    "Y = np.linspace(-15, 15, 100)\n",
    "\n",
    "X = np.linspace(0, 2, 100)\n",
    "Y = np.linspace(0, 2, 100)\n",
    "\n",
    "inp = np.array(np.meshgrid(X, Y)).reshape(2, len(X)*len(Y))\n",
    "\n",
    "out = K(inp, np.array([0, 0]))\n",
    "# out = (inp[0] + inp[1]) * 1/8.\n",
    "#himmelblau_2d(inp)\n",
    "\n",
    "out = out.reshape(len(X), len(Y))"
   ]
  },
  {
   "cell_type": "code",
   "execution_count": null,
   "metadata": {},
   "outputs": [],
   "source": [
    "import plotly.graph_objects as go\n",
    "\n",
    "fig = go.Figure(data=[go.Surface(z=out, x=X, y=Y, colorscale=\"Viridis\")])\n",
    "\n",
    "fig.update_layout(title='Function', autosize=False,\n",
    "                  width=1000, height=800,\n",
    "                  margin=dict(l=65, r=50, b=65, t=90))\n",
    "\n",
    "fig.show()"
   ]
  },
  {
   "cell_type": "code",
   "execution_count": null,
   "metadata": {},
   "outputs": [],
   "source": [
    "U(inp)"
   ]
  },
  {
   "cell_type": "code",
   "execution_count": null,
   "metadata": {},
   "outputs": [],
   "source": [
    "inp"
   ]
  },
  {
   "cell_type": "code",
   "execution_count": null,
   "metadata": {},
   "outputs": [],
   "source": [
    "import time"
   ]
  },
  {
   "cell_type": "code",
   "execution_count": null,
   "metadata": {},
   "outputs": [],
   "source": [
    "x_low, x_high, t_low, t_high = -20, 20, 0, 4 # closed interval for spatial and time\n",
    "delta_x, delta_t = 0.005, 0.000001 # number of points to approximate\n",
    "sig = 1\n",
    "\n",
    "process = {\"potential_function\": {\"name\": \"gaussian\", \"params\": [[-10, 1, -2], [0, 10, -1], [10, 3, 1], [-20, 1, 3], [20, 1, 3]]}}\n",
    "\n",
    "\n",
    "\n",
    "num_x, num_t = (x_high - x_low)/float(delta_x), (t_high - t_low)/float(delta_t)\n",
    "# assert (x_high - x_low) // delta_x == num_x\n",
    "# assert (t_high - t_low) // delta_t == num_t\n",
    "\n",
    "num_x, num_t = int(num_x) + 1, int(num_t) + 1\n",
    "u_start = lambda x: 1/float(num_x)\n",
    "\n",
    "# get potential_function and gradient\n",
    "# U, grad_U = lambda inp: inp[0]**2, lambda inp: 2 * inp\n",
    "U, grad_U = utils.get_potential(process)\n",
    "\n",
    "# init u\n",
    "u = [np.array([u_start(delta_x * i) for i in range(num_x)])] # 1D is time and rest are space\n",
    "\n",
    "V = lambda x: np.linalg.norm(grad_U(np.array([[x]])), axis=0)\n",
    "\n",
    "# create forward matrix\n",
    "forward_matrix = []\n",
    "\n",
    "a = time.time()\n",
    "assert num_x > 3\n",
    "for i in range(num_x):\n",
    "    curr_x = x_low + delta_x * i \n",
    "    b = grad_U(np.array([[curr_x]]))[0][0]\n",
    "    \n",
    "    row = [sig**2 / 2. * delta_t / (delta_x**2) - delta_t*b / (2 * delta_x), - sig**2/2. * 2*delta_t/(delta_x ** 2) - delta_t*V(curr_x)[0] + 1,\n",
    "     delta_t * b / (2. * delta_x) + sig**2 / 2. * delta_t / (delta_x**2)]\n",
    "    \n",
    "    padded_row = [0] * i + row + [0]*(num_x - (i + 1))\n",
    "    forward_matrix.append(padded_row[1:-1])\n",
    "    \n",
    "forward_matrix = np.array(forward_matrix)\n",
    "\n",
    "print(time.time() - a)\n",
    "\n",
    "for t in range(num_t):\n",
    "    u_next = forward_matrix.dot(u[-1])\n",
    "    u.append(u_next) \n",
    "    \n",
    "print(time.time() - a)\n",
    "\n",
    "    "
   ]
  },
  {
   "cell_type": "code",
   "execution_count": null,
   "metadata": {},
   "outputs": [],
   "source": [
    "X = np.linspace(-20, 20, num_x)[50: -50]\n",
    "Y = u[2000][50: -50]\n",
    "\n",
    "plt.plot(X, Y)\n",
    "plt.show()"
   ]
  },
  {
   "cell_type": "code",
   "execution_count": null,
   "metadata": {},
   "outputs": [],
   "source": [
    "def f(inp):\n",
    "    x, y = inp[0], inp[1]\n",
    "    x = np.maximum(x, 0, x)\n",
    "    return x * y \n",
    "\n",
    "\n",
    "X = np.linspace(-5, 5, 100)\n",
    "Y = np.linspace(-5, 5, 100)\n",
    "\n",
    "inp = np.array(np.meshgrid(X, Y)).reshape(2, len(X)*len(Y))\n",
    "\n",
    "out = f(inp)\n",
    "\n",
    "out = out.reshape(len(X), len(Y))\n",
    "\n",
    "fig, ax = plt.subplots()\n",
    "CS = ax.contour(X, Y, out)\n",
    "ax.clabel(CS, inline=1, fontsize=10)\n",
    "ax.set_title('Simplest default with labels')"
   ]
  },
  {
   "cell_type": "code",
   "execution_count": null,
   "metadata": {},
   "outputs": [],
   "source": []
  }
 ],
 "metadata": {
  "kernelspec": {
   "display_name": "Python 3",
   "language": "python",
   "name": "python3"
  },
  "language_info": {
   "codemirror_mode": {
    "name": "ipython",
    "version": 3
   },
   "file_extension": ".py",
   "mimetype": "text/x-python",
   "name": "python",
   "nbconvert_exporter": "python",
   "pygments_lexer": "ipython3",
   "version": "3.7.3"
  }
 },
 "nbformat": 4,
 "nbformat_minor": 2
}
